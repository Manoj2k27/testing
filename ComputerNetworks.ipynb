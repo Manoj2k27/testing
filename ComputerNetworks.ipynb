{
  "nbformat": 4,
  "nbformat_minor": 0,
  "metadata": {
    "colab": {
      "provenance": [],
      "authorship_tag": "ABX9TyNo7a6cgmW1z6LCsX+jQwpL",
      "include_colab_link": true
    },
    "kernelspec": {
      "name": "python3",
      "display_name": "Python 3"
    },
    "language_info": {
      "name": "python"
    }
  },
  "cells": [
    {
      "cell_type": "markdown",
      "metadata": {
        "id": "view-in-github",
        "colab_type": "text"
      },
      "source": [
        "<a href=\"https://colab.research.google.com/github/Manoj2k27/testing/blob/main/ComputerNetworks.ipynb\" target=\"_parent\"><img src=\"https://colab.research.google.com/assets/colab-badge.svg\" alt=\"Open In Colab\"/></a>"
      ]
    },
    {
      "cell_type": "markdown",
      "source": [
        "##2.Write a program to implement the data link layer farming methods such as character stuffing and bit stuffing\n"
      ],
      "metadata": {
        "id": "RdJGbrT5YXtS"
      }
    },
    {
      "cell_type": "code",
      "source": [
        "x = input(\"Enter the characters: \")\n",
        "\n",
        "STX = 'stx'\n",
        "ETX = 'etx'\n",
        "\n",
        "segments = x.split()\n",
        "\n",
        "framed_data = \"\"\n",
        "for segment in segments:\n",
        "    segment = segment.replace(STX, STX+STX).replace(ETX, ETX+ETX)\n",
        "    framed_data += STX + segment + ETX + \" \"\n",
        "\n",
        "framed_data = framed_data.strip()\n",
        "\n",
        "print(\"Framed Data:\", framed_data)\n"
      ],
      "metadata": {
        "id": "Wq1c8C_aYvWf"
      },
      "execution_count": null,
      "outputs": []
    },
    {
      "cell_type": "markdown",
      "source": [
        "##bit stuffing\n"
      ],
      "metadata": {
        "id": "KdNOP9_BY6ZL"
      }
    },
    {
      "cell_type": "code",
      "source": [
        "x = input(\"Enter the bits: \")\n",
        "\n",
        "STX = '01111110'\n",
        "ETX = '01111110'  # corrected ETX to avoid confusion with STX\n",
        "A = '111111'\n",
        "B = '1111101'\n",
        "\n",
        "segments = x.split(' ')\n",
        "\n",
        "framed_data = \"\"\n",
        "for segment in segments:\n",
        "    segment = segment.replace(A, B)\n",
        "    framed_data += STX + segment + ETX + \" \"\n",
        "\n",
        "framed_data = framed_data.strip()\n",
        "\n",
        "print(\"Framed Data:\", framed_data)"
      ],
      "metadata": {
        "id": "b2uRjpq0Y5iO"
      },
      "execution_count": null,
      "outputs": []
    },
    {
      "cell_type": "markdown",
      "source": [
        "#3. Write a program to implement data link layer framing method\n",
        "#checkum"
      ],
      "metadata": {
        "id": "gntTjajcZOEJ"
      }
    },
    {
      "cell_type": "code",
      "source": [
        "def findChecksum(SentMessage, k):\n",
        "    c1 = SentMessage[0:k]\n",
        "    c2 = SentMessage[k:2*k]\n",
        "    c3 = SentMessage[2*k:3*k]\n",
        "    c4 = SentMessage[3*k:4*k]\n",
        "\n",
        "    Sum = bin(int(c1, 2) + int(c2, 2) + int(c3, 2) + int(c4, 2))[2:]\n",
        "\n",
        "    if len(Sum) > k:\n",
        "        x = len(Sum) - k\n",
        "        Sum = bin(int(Sum[0:x], 2) + int(Sum[x:], 2))[2:]\n",
        "    if len(Sum) < k:\n",
        "        Sum = '0' * (k - len(Sum)) + Sum\n",
        "\n",
        "    Checksum = ''\n",
        "    for i in Sum:\n",
        "        if i == '1':\n",
        "            Checksum += '0'\n",
        "        else:\n",
        "            Checksum += '1'\n",
        "    return Checksum\n",
        "\n",
        "\n",
        "def checkReceiverChecksum(ReceivedMessage, k):\n",
        "\n",
        "    segments = [ReceivedMessage[i:i + k] for i in range(0, len(ReceivedMessage), k)]\n",
        "\n",
        "\n",
        "    total_sum = sum(int(segment, 2) for segment in segments)\n",
        "\n",
        "\n",
        "    ReceiverSum = bin(total_sum)[2:]\n",
        "\n",
        "\n",
        "    if len(ReceiverSum) > k:\n",
        "        x = len(ReceiverSum) - k\n",
        "        ReceiverSum = bin(int(ReceiverSum[0:x], 2) + int(ReceiverSum[x:], 2))[2:]\n",
        "\n",
        "\n",
        "    ReceiverChecksum = ''\n",
        "    for i in ReceiverSum:\n",
        "        if i == '1':\n",
        "            ReceiverChecksum += '0'\n",
        "        else:\n",
        "            ReceiverChecksum += '1'\n",
        "\n",
        "\n",
        "    if len(ReceiverChecksum) < k:\n",
        "        ReceiverChecksum = '0' * (k - len(ReceiverChecksum)) + ReceiverChecksum\n",
        "\n",
        "    return ReceiverChecksum\n",
        "\n",
        "\n",
        "SentMessage = input(\"Enter sent message: \")\n",
        "k = int(input(\"Enter frame size: \"))\n",
        "\n",
        "Checksum = findChecksum(SentMessage, k)\n",
        "print(\"SENDER SIDE CHECKSUM: \", Checksum)\n",
        "\n",
        "\n",
        "CombinedMessage = Checksum + SentMessage\n",
        "print(\"SENDER MESSAGE: \", CombinedMessage)\n",
        "receiverMessage=input(\"Enter receiver message:\")\n",
        "\n",
        "ReceiverChecksum = checkReceiverChecksum(receiverMessage, k)\n",
        "print(\"RECEIVER SIDE CHECKSUM: \", ReceiverChecksum)\n",
        "if ReceiverChecksum == '0' * k:\n",
        "    print(\"Receiver Checksum is equal to 0. Therefore,\")\n",
        "    print(\"STATUS: ACCEPTED\")\n",
        "else:\n",
        "    print(\"Receiver Checksum is not equal to 0. Therefore,\")\n",
        "    print(\"STATUS: ERROR DETECTED\")"
      ],
      "metadata": {
        "id": "O2K6yFajZEHg"
      },
      "execution_count": null,
      "outputs": []
    },
    {
      "cell_type": "markdown",
      "source": [
        "#4.Haming Code\n"
      ],
      "metadata": {
        "id": "E77YlZZtax_d"
      }
    },
    {
      "cell_type": "code",
      "source": [
        "def calcRedundantBits(m):\n",
        "    for i in range(m):\n",
        "        if (2**i >= m + i + 1):\n",
        "            return i\n",
        "\n",
        "def posRedundantBits(data, r):\n",
        "    j = 0\n",
        "    k = 1\n",
        "    m = len(data)\n",
        "    res = ''\n",
        "\n",
        "    for i in range(1, m + r + 1):\n",
        "        if (i == 2**j):\n",
        "            res = res + '0'\n",
        "            j += 1\n",
        "        else:\n",
        "            res = res + data[-1 * k]\n",
        "            k += 1\n",
        "\n",
        "    return res[::-1]\n",
        "\n",
        "def calcParityBits(arr, r, parity_type):\n",
        "    n = len(arr)\n",
        "\n",
        "    parity_bits = []\n",
        "    for i in range(r):\n",
        "        val = 0\n",
        "        for j in range(1, n + 1):\n",
        "            if (j & (2**i) == (2**i)):\n",
        "                val = val ^ int(arr[-1 * j])\n",
        "\n",
        "        # Adjust parity bit based on chosen parity type\n",
        "        if parity_type == \"odd\":\n",
        "            val = 1 if val == 0 else 0  # Flip the parity bit to ensure odd parity\n",
        "        parity_bits.append(val)\n",
        "        arr = arr[:n - (2**i)] + str(val) + arr[n - (2**i) + 1:]\n",
        "    print(\"Number of parity bits:\", len(parity_bits))\n",
        "    print(f\"Sender's parity bits: {parity_bits[::-1]}\")  # Print sender's parity bits\n",
        "    return arr\n",
        "\n",
        "def detectError(arr, nr, parity_type):\n",
        "    n = len(arr)\n",
        "    res = 0\n",
        "    parity_bits_receiver = []\n",
        "\n",
        "    for i in range(nr):\n",
        "        val = 0\n",
        "        for j in range(1, n + 1):\n",
        "            if (j & (2**i) == (2**i)):\n",
        "                val = val ^ int(arr[-1 * j])\n",
        "\n",
        "        parity_bits_receiver.append(val)\n",
        "        res = res + val * (2**i)  # Convert binary parity error to position\n",
        "\n",
        "    # Check parity type to ensure proper error detection\n",
        "    if parity_type == \"odd\":\n",
        "        for i in range(len(parity_bits_receiver)):\n",
        "            if parity_bits_receiver[i] == 0:\n",
        "                parity_bits_receiver[i] = 1  # Adjust to match odd parity\n",
        "            else:\n",
        "                parity_bits_receiver[i] = 0\n",
        "    print(\"Number of parity bits:\", len(parity_bits_receiver))\n",
        "    print(f\"Receiver's parity bits: {parity_bits_receiver[::-1]}\")  # Print receiver's parity bits\n",
        "    return res\n",
        "\n",
        "# Main program\n",
        "data = input(\"Enter the data to be transmitted (binary): \")\n",
        "m = len(data)\n",
        "\n",
        "# Get parity option from user (odd/even)\n",
        "parity_type = input(\"Enter the parity type (odd/even): \").strip().lower()\n",
        "while parity_type not in ['odd', 'even']:\n",
        "    print(\"Invalid input! Please enter 'odd' or 'even'.\")\n",
        "    parity_type = input(\"Enter the parity type (odd/even): \").strip().lower()\n",
        "\n",
        "r = calcRedundantBits(m)\n",
        "\n",
        "arr = posRedundantBits(data, r)\n",
        "arr = calcParityBits(arr, r, parity_type)\n",
        "\n",
        "print(\"Code word is:\", arr)\n",
        "\n",
        "# Now instead of simulating an error, we will take the receiver's data as input\n",
        "received_data = input(\"Enter the received data (binary): \")\n",
        "\n",
        "# Check if lengths are equal\n",
        "if len(received_data) != len(arr):\n",
        "    print(\"Not equal length\")\n",
        "else:\n",
        "    # Detect any errors in the received data\n",
        "    correction = detectError(received_data, r, parity_type)\n",
        "\n",
        "    if correction == 0:\n",
        "        print(\"There is no error in the received message.\")\n",
        "    else:\n",
        "        print(\"The position of error is\", correction, \"from the right (LSB).\")\n",
        "\n",
        "        # Correct the error by flipping the bit at the error position\n",
        "        corrected_data = list(received_data)\n",
        "        corrected_data[-correction] = '0' if corrected_data[-correction] == '1' else '1'\n",
        "        corrected_data = ''.join(corrected_data)\n",
        "\n",
        "        print(\"Corrected code word:\", corrected_data)  # Print the corrected code word\n"
      ],
      "metadata": {
        "id": "2pxVxPr9ZEK4"
      },
      "execution_count": null,
      "outputs": []
    },
    {
      "cell_type": "markdown",
      "source": [
        "#5.CRC12 CRC16"
      ],
      "metadata": {
        "id": "8Qpal-96a6xE"
      }
    },
    {
      "cell_type": "code",
      "source": [
        "def xor(a, b):\n",
        "    \"\"\"Perform XOR operation on two bits.\"\"\"\n",
        "    return 0 if a == b else 1\n",
        "\n",
        "def calculate_crc(data, divisor):\n",
        "    \"\"\"\n",
        "    Calculate CRC for the given data and divisor.\n",
        "    \"\"\"\n",
        "    data_length = len(data)\n",
        "    divisor_length = len(divisor)\n",
        "    crc = data.copy()  # Copy the data to avoid modifying the original\n",
        "\n",
        "    # Perform CRC division\n",
        "    for i in range(data_length - divisor_length + 1):\n",
        "        if crc[i] == 1:  # Only perform XOR if the first bit is 1\n",
        "            for j in range(divisor_length):\n",
        "                crc[i + j] = xor(crc[i + j], divisor[j])\n",
        "\n",
        "    # Return the remainder (CRC)\n",
        "    return crc[-(divisor_length - 1):]\n",
        "\n",
        "def get_polynomial_representation(divisor):\n",
        "    polynomial = []\n",
        "    for i, bit in enumerate(divisor):\n",
        "        if bit == 1:\n",
        "            power = len(divisor) - i - 1\n",
        "            if power == 0:\n",
        "                polynomial.append(\"1\")\n",
        "            elif power == 1:\n",
        "                polynomial.append(\"x\")\n",
        "            else:\n",
        "                polynomial.append(f\"x^{power}\")\n",
        "    return \" + \".join(polynomial)\n",
        "\n",
        "def main():\n",
        "    # Input data and divisor\n",
        "    try:\n",
        "        # Input data as a single string of bits\n",
        "        data_input = input(\"Enter the data bits (e.g., 10110): \")\n",
        "        data = [int(bit) for bit in data_input]  # Convert string to list of integers\n",
        "\n",
        "        # Input divisor as a single string of bits\n",
        "        divisor_input = input(\"Enter the divisor bits (e.g., 1101): \")\n",
        "        divisor = [int(bit) for bit in divisor_input]  # Convert string to list of integers\n",
        "\n",
        "        # Display the generator polynomial\n",
        "        polynomial = get_polynomial_representation(divisor)\n",
        "        print(f\"Generator polynomial: {polynomial}\")\n",
        "\n",
        "        # Append zeros to the data for CRC calculation\n",
        "        data_with_zeros = data + [0] * (len(divisor) - 1)\n",
        "\n",
        "        # Calculate CRC\n",
        "        crc = calculate_crc(data_with_zeros, divisor)\n",
        "        print(\"The CRC is:\", \"\".join(map(str, crc)))\n",
        "\n",
        "        # Prepare the data to be sent (original data + CRC)\n",
        "        transmitted_data = data + crc\n",
        "        print(\"The data to be sent is:\", \"\".join(map(str, transmitted_data)))\n",
        "\n",
        "        # Simulate receiver side\n",
        "        received_input = input(\"Enter the received data bits (e.g., 10110010): \")\n",
        "        received_data = [int(bit) for bit in received_input]  # Convert string to list of integers\n",
        "\n",
        "        # Check for errors\n",
        "        remainder = calculate_crc(received_data, divisor)\n",
        "        print(\"The remainder is:\", \"\".join(map(str, remainder)))\n",
        "\n",
        "        if all(bit == 0 for bit in remainder):\n",
        "            print(\"No error detected. Data is correct.\")\n",
        "        else:\n",
        "            print(\"Error detected in the received data.\")\n",
        "\n",
        "    except ValueError:\n",
        "        print(\"Invalid input. Please enter binary strings only (e.g., 10101).\")\n",
        "\n",
        "if __name__ == \"__main__\":\n",
        "    main()"
      ],
      "metadata": {
        "id": "Oo6CVE69bAgO"
      },
      "execution_count": null,
      "outputs": []
    },
    {
      "cell_type": "markdown",
      "source": [
        "#6.Socket Programming\n"
      ],
      "metadata": {
        "id": "mOSNu8ribm5Z"
      }
    },
    {
      "cell_type": "markdown",
      "source": [
        "server"
      ],
      "metadata": {
        "id": "-2Lky_ZJlCZm"
      }
    },
    {
      "cell_type": "code",
      "source": [
        "#---------------------------sender----------------------------------\n",
        "import socket\n",
        "\n",
        "def start_server():\n",
        "    try:\n",
        "        server_socket = socket.socket(socket.AF_INET, socket.SOCK_STREAM)\n",
        "        host = '127.0.0.1'\n",
        "        port = 12345\n",
        "        server_socket.bind((host, port))\n",
        "        server_socket.listen(5)\n",
        "        print(f\"Server started at {host}:{port}. Waiting for connections...\")\n",
        "        client_socket, client_address = server_socket.accept()\n",
        "        print(f\"Connection from {client_address} has been established.\")\n",
        "        data = client_socket.recv(1024)\n",
        "        if data:\n",
        "            print(f\"Received from client: {data.decode()}\")\n",
        "            client_socket.send(b\"Message received!\")\n",
        "        print(f\"Closing connection to {client_address}\")\n",
        "        client_socket.close()\n",
        "\n",
        "    except Exception as e:\n",
        "        print(f\"An error occurred with the server: {e}\")\n",
        "    finally:\n",
        "        server_socket.close()\n",
        "\n",
        "if __name__ == '__main__':\n",
        "    start_server()\n"
      ],
      "metadata": {
        "id": "qcH1-yKGbqmE"
      },
      "execution_count": null,
      "outputs": []
    },
    {
      "cell_type": "markdown",
      "source": [
        "receiver\n"
      ],
      "metadata": {
        "id": "ghnDBrGCk9mw"
      }
    },
    {
      "cell_type": "code",
      "source": [
        "#----------------------receiver-----------\n",
        "import socket\n",
        "\n",
        "def start_client():\n",
        "    try:\n",
        "        client_socket = socket.socket(socket.AF_INET, socket.SOCK_STREAM)\n",
        "        host = '127.0.0.1'\n",
        "        port = 12345\n",
        "        client_socket.connect((host, port))\n",
        "        print(\"Connected to server. Type your message:\")\n",
        "\n",
        "        message = input(\"Enter message: \")\n",
        "        client_socket.send(message.encode())\n",
        "        data = client_socket.recv(1024)\n",
        "        print(f\"Server response: {data.decode()}\")\n",
        "\n",
        "    except ConnectionRefusedError:\n",
        "        print(\"Could not connect to the server. Ensure the server is running.\")\n",
        "    except Exception as e:\n",
        "        print(f\"An error occurred: {e}\")\n",
        "    finally:\n",
        "        client_socket.close()\n",
        "\n",
        "if __name__ == '__main__':\n",
        "    start_client()"
      ],
      "metadata": {
        "id": "wvahjtftc31q"
      },
      "execution_count": null,
      "outputs": []
    },
    {
      "cell_type": "markdown",
      "source": [
        "# 7. Stop and Wait Arq"
      ],
      "metadata": {
        "id": "0LWdbQ33kNcK"
      }
    },
    {
      "cell_type": "markdown",
      "source": [
        "#.Client"
      ],
      "metadata": {
        "id": "D7qH4BO8brOw"
      }
    },
    {
      "cell_type": "code",
      "source": [
        "import socket\n",
        "import time\n",
        "\n",
        "def start_client(message, timeout):\n",
        "    host = 'localhost'\n",
        "    port = 12678\n",
        "    sequence_number = 0\n",
        "\n",
        "    client_socket = socket.socket(socket.AF_INET, socket.SOCK_STREAM)\n",
        "\n",
        "    try:\n",
        "        print(f\"Connecting to server at {host}:{port}...\")\n",
        "        client_socket.connect((host, port))\n",
        "        print(f\"Connected to server at {host}:{port}\")\n",
        "\n",
        "        frames = message.split(' ')  # Divide message into frames based on spaces\n",
        "\n",
        "        for frame in frames:\n",
        "            while True:\n",
        "                data = f\"{sequence_number}:{frame}\"\n",
        "                print(f\"Sending frame: {data}\")\n",
        "                client_socket.sendall(data.encode())  # Just send without flush\n",
        "\n",
        "                client_socket.settimeout(timeout)\n",
        "                try:\n",
        "                    ack = client_socket.recv(1024).decode()\n",
        "                    if ack == f\"ACK:{sequence_number}\":\n",
        "                        print(f\"Received acknowledgment: {ack}\")\n",
        "                        sequence_number = 1 - sequence_number  # Flip sequence number (0 -> 1, 1 -> 0)\n",
        "                        break\n",
        "                except socket.timeout:\n",
        "                    print(\"Timeout occurred, resending frame...\")\n",
        "\n",
        "    except socket.error as e:\n",
        "        print(f\"Socket error: {e}\")\n",
        "    except Exception as e:\n",
        "        print(f\"Error: {e}\")\n",
        "    finally:\n",
        "        client_socket.close()\n",
        "\n",
        "if __name__ == \"__main__\":\n",
        "    message = input(\"Enter the message to send to the server: \")\n",
        "    timeout = float(input(\"Enter the timeout duration in seconds: \"))\n",
        "    start_client(message, timeout)\n"
      ],
      "metadata": {
        "id": "a7lOhhlbbylS"
      },
      "execution_count": null,
      "outputs": []
    },
    {
      "cell_type": "markdown",
      "source": [
        "server"
      ],
      "metadata": {
        "id": "FeHbaEeckZaJ"
      }
    },
    {
      "cell_type": "code",
      "source": [
        "\n",
        "import socket\n",
        "\n",
        "def start_server():\n",
        "    host = 'localhost'\n",
        "    port = 12345\n",
        "    expected_sequence_number = 0\n",
        "    server_socket = socket.socket(socket.AF_INET, socket.SOCK_STREAM)\n",
        "    server_socket.setsockopt(socket.SOL_SOCKET, socket.SO_REUSEADDR, 1)  # Reuse the address\n",
        "\n",
        "    server_socket.bind((host, port))\n",
        "    server_socket.listen(1)\n",
        "    print(f\"Server listening on {host}:{port}...\")\n",
        "    client_socket, client_address = server_socket.accept()\n",
        "    print(f\"Connection established with {client_address}\")\n",
        "    while True:\n",
        "        data = client_socket.recv(1024).decode()\n",
        "        if not data:\n",
        "            print(\"No data received, closing connection.\")\n",
        "            break\n",
        "\n",
        "        if data.count(':') == 1:\n",
        "            sequence_number, frame = data.split(':')\n",
        "            sequence_number = int(sequence_number)\n",
        "\n",
        "            if sequence_number == expected_sequence_number:\n",
        "                print(f\"Received from client: {frame}\")\n",
        "                user_input = input(\"Acknowledge the frame? (yes/no): \")\n",
        "                if user_input.lower() == 'yes':\n",
        "                    ack = f\"ACK:{sequence_number}\"\n",
        "                    client_socket.sendall(ack.encode())\n",
        "                    print(f\"Sent acknowledgment: {ack}\")\n",
        "                    expected_sequence_number = 1 - expected_sequence_number  # Flip sequence number (0 -> 1, 1 -> 0)\n",
        "                else:\n",
        "                    print(\"Acknowledgment not sent, simulating lost ACK.\")\n",
        "            else:\n",
        "                print(f\"Received out-of-order frame with sequence number: {sequence_number}\")\n",
        "        else:\n",
        "            print(f\"Invalid data received: {data}. Ignoring.\")\n",
        "\n",
        "    client_socket.close()\n",
        "    server_socket.close()\n",
        "\n",
        "if __name__ == \"__main__\":\n",
        "    start_server()\n",
        "\n"
      ],
      "metadata": {
        "id": "cdvHm_37c3Lc"
      },
      "execution_count": null,
      "outputs": []
    },
    {
      "cell_type": "markdown",
      "source": [
        "#8.Sliding Window Program"
      ],
      "metadata": {
        "id": "Bloo3e0Wb5iU"
      }
    },
    {
      "cell_type": "markdown",
      "source": [
        "sender"
      ],
      "metadata": {
        "id": "7mSabZIwlG7v"
      }
    },
    {
      "cell_type": "code",
      "source": [
        "import socket\n",
        "import time\n",
        "\n",
        "def sender(total_packets, window_size, host='localhost', port=12346):\n",
        "    client_socket = socket.socket(socket.AF_INET, socket.SOCK_DGRAM)\n",
        "    client_socket.settimeout(2)  # Set timeout to avoid infinite blocking\n",
        "\n",
        "    base = 1  # First packet in the window\n",
        "    next_seq_num = 1  # Next packet to send\n",
        "    acked_packets = set()  # Store acknowledged packets\n",
        "\n",
        "    print(\" Sender is starting...\\n\")\n",
        "\n",
        "    while base <= total_packets:\n",
        "        # Send packets within the window\n",
        "        while next_seq_num < base + window_size and next_seq_num <= total_packets:\n",
        "            if next_seq_num not in acked_packets:  # Send only unacknowledged packets\n",
        "                packet = f\"Packet_{next_seq_num}\"\n",
        "                client_socket.sendto(packet.encode(), (host, port))\n",
        "                print(f\" Sent: {packet}\")\n",
        "            next_seq_num += 1\n",
        "\n",
        "        try:\n",
        "            # Receive ACKs\n",
        "            ack, _ = client_socket.recvfrom(1024)\n",
        "            ack_num = int(ack.decode().split(\"_\")[1])  # Extract packet number from \"ACK_X\"\n",
        "            print(f\" Received Acknowledgment: {ack.decode()}\")\n",
        "\n",
        "            # Mark packet as acknowledged\n",
        "            acked_packets.add(ack_num)\n",
        "\n",
        "            # Slide the window if base is acknowledged\n",
        "            while base in acked_packets:\n",
        "                base += 1  # Move window forward\n",
        "\n",
        "        except socket.timeout:\n",
        "            print(\" Timeout: No ACK received, resending unacknowledged packets...\\n\")\n",
        "            next_seq_num = base  # Reset to base to resend unacknowledged packets\n",
        "\n",
        "        time.sleep(1)  # Simulating network delay\n",
        "\n",
        "    print(\" All packets sent and acknowledged successfully.\")\n",
        "    client_socket.close()\n",
        "\n",
        "if __name__ == \"__main__\":\n",
        "    total_packets = int(input(\"Enter total number of packets: \"))\n",
        "    window_size = int(input(\"Enter window size: \"))\n",
        "    sender(total_packets, window_size)"
      ],
      "metadata": {
        "id": "E7lvomvlcDmm"
      },
      "execution_count": null,
      "outputs": []
    },
    {
      "cell_type": "markdown",
      "source": [
        "receiver"
      ],
      "metadata": {
        "id": "aFyB-6WelKPQ"
      }
    },
    {
      "cell_type": "code",
      "source": [
        "#-----------------------------------receiver--------------------\n",
        "\n",
        "\n",
        "import socket\n",
        "import time\n",
        "\n",
        "def receiver(host='localhost', port=12346):\n",
        "    server_socket = socket.socket(socket.AF_INET, socket.SOCK_DGRAM)\n",
        "\n",
        "    # Allow address reuse to prevent 'address already in use' errors\n",
        "    server_socket.setsockopt(socket.SOL_SOCKET, socket.SO_REUSEADDR, 1)\n",
        "\n",
        "    server_socket.bind((host, port))\n",
        "    print(\"Receiver is ready...\\n\")\n",
        "\n",
        "    expected_packet = 1\n",
        "    received_packets = set()\n",
        "\n",
        "    while True:\n",
        "        try:\n",
        "            packet, client_address = server_socket.recvfrom(1024)\n",
        "            packet_num = int(packet.decode().split(\"_\")[1])\n",
        "            print(f\" Received: {packet.decode()}\")\n",
        "\n",
        "            if packet_num == expected_packet:\n",
        "                received_packets.add(packet_num)\n",
        "                print(f\" Packet {packet_num} received in order.\")\n",
        "\n",
        "                ack_message = f\"ACK_{packet_num}\"\n",
        "                server_socket.sendto(ack_message.encode(), client_address)\n",
        "                print(f\" Sent Acknowledgment: {ack_message}\\n\")\n",
        "\n",
        "                expected_packet += 1\n",
        "\n",
        "            elif packet_num in received_packets:\n",
        "                print(f\" Duplicate packet {packet_num} received, ignoring.\")\n",
        "\n",
        "            time.sleep(1)\n",
        "\n",
        "        except Exception as e:\n",
        "            print(f\"⚠ Error: {e}\")\n",
        "            break\n",
        "\n",
        "    server_socket.close()\n",
        "\n",
        "if __name__ == \"__main__\":\n",
        "    receiver()\n"
      ],
      "metadata": {
        "id": "ZaQPtM2FcXkx"
      },
      "execution_count": null,
      "outputs": []
    },
    {
      "cell_type": "markdown",
      "source": [
        "#9.GO-BACK-N ARQ\n"
      ],
      "metadata": {
        "id": "ofJsl7Q4ccyY"
      }
    },
    {
      "cell_type": "markdown",
      "source": [
        "receiver"
      ],
      "metadata": {
        "id": "bfiqauJ7lTS8"
      }
    },
    {
      "cell_type": "code",
      "source": [
        "# receiver.py (Go-Back-N)\n",
        "import socket\n",
        "import random\n",
        "\n",
        "def receiver():\n",
        "    receiver_socket = socket.socket(socket.AF_INET, socket.SOCK_DGRAM)\n",
        "    receiver_address = ('127.0.0.1', 12345)\n",
        "    receiver_socket.bind(receiver_address)\n",
        "\n",
        "    expected_seq_num = 0\n",
        "\n",
        "    while True:\n",
        "        try:\n",
        "            receiver_socket.settimeout(10)\n",
        "            frame, sender_address = receiver_socket.recvfrom(1024)\n",
        "            frame_data = frame.decode()\n",
        "            frame_seq = int(frame_data.split(\" \")[1])\n",
        "\n",
        "            if random.random() < 0.2: #simulate packet loss\n",
        "                print(f\"Packet loss: {frame_data}\")\n",
        "                continue\n",
        "\n",
        "            if frame_seq == expected_seq_num:\n",
        "                print(f\"Received {frame_data}\")\n",
        "                receiver_socket.sendto(str(frame_seq).encode(), sender_address)\n",
        "                print(f\"Sending ACK {frame_seq}\")\n",
        "                expected_seq_num += 1\n",
        "            elif frame_seq < expected_seq_num: # send duplicate ack for previously received frame\n",
        "                receiver_socket.sendto(str(frame_seq).encode(), sender_address)\n",
        "                print(f\"Sending duplicate ACK {frame_seq}\")\n",
        "            else:\n",
        "                print(f\"Out-of-order frame: {frame_data}. Expected: {expected_seq_num}, Received: {frame_seq}\")\n",
        "\n",
        "        except socket.timeout:\n",
        "            print(\"Receiver timeout. Exiting.\")\n",
        "            break\n",
        "\n",
        "    receiver_socket.close()\n",
        "\n",
        "if __name__ == \"__main__\":\n",
        "    receiver()\n"
      ],
      "metadata": {
        "id": "llRMy08Pcj08"
      },
      "execution_count": null,
      "outputs": []
    },
    {
      "cell_type": "markdown",
      "source": [
        "sender\n"
      ],
      "metadata": {
        "id": "xUyHkCQjlVaF"
      }
    },
    {
      "cell_type": "code",
      "source": [
        "# sender.py (Go-Back-N, dynamic ack_received)\n",
        "import socket\n",
        "import time\n",
        "\n",
        "def sender():\n",
        "    sender_socket = socket.socket(socket.AF_INET, socket.SOCK_DGRAM)\n",
        "    receiver_address = ('127.0.0.1', 12345)\n",
        "\n",
        "    num_frames = int(input(\"Enter the number of frames: \"))\n",
        "    window_size = int(input(\"Enter the window size: \"))\n",
        "\n",
        "    frames = [f\"Frame {i}\" for i in range(num_frames)]\n",
        "    send_base = 0\n",
        "    next_seq_num = 0\n",
        "    ack_received = {}  # Use a dictionary instead of a list\n",
        "    timeout_occurred = False\n",
        "    timeout_start = 0\n",
        "\n",
        "    while send_base < num_frames:\n",
        "        while next_seq_num < min(send_base + window_size, num_frames):\n",
        "            if next_seq_num not in ack_received or not ack_received[next_seq_num]:\n",
        "                print(f\"Sending {frames[next_seq_num]} (Seq: {next_seq_num})\")\n",
        "                sender_socket.sendto(frames[next_seq_num].encode(), receiver_address)\n",
        "                if send_base == next_seq_num and not timeout_occurred:\n",
        "                    timeout_start = time.time()\n",
        "                    timeout_occurred = True\n",
        "                time.sleep(0.1)\n",
        "            next_seq_num += 1\n",
        "\n",
        "        try:\n",
        "            sender_socket.settimeout(0.1)\n",
        "            ack_message, _ = sender_socket.recvfrom(1024)\n",
        "            ack_seq = int(ack_message.decode())\n",
        "            print(f\"Received ACK for Seq: {ack_seq}\")\n",
        "            ack_received[ack_seq] = True\n",
        "\n",
        "            if ack_seq == send_base:\n",
        "                while send_base < num_frames and send_base in ack_received and ack_received[send_base]:\n",
        "                    send_base += 1\n",
        "                if send_base == next_seq_num:\n",
        "                    timeout_occurred = False\n",
        "\n",
        "        except socket.timeout:\n",
        "            if timeout_occurred and time.time() - timeout_start > 0.5:\n",
        "                print(\"Timeout: Resending from base.\")\n",
        "                next_seq_num = send_base\n",
        "                timeout_start = time.time()\n",
        "\n",
        "    print(\"All frames sent and acknowledged.\")\n",
        "    sender_socket.close()\n",
        "\n",
        "\n",
        "if __name__ == \"__main__\":\n",
        "    sender()"
      ],
      "metadata": {
        "id": "F7xIrhTTckA4"
      },
      "execution_count": null,
      "outputs": []
    },
    {
      "cell_type": "markdown",
      "source": [
        "#10. SELECTIVE REPEAT ARQ\n"
      ],
      "metadata": {
        "id": "pNYzw39Cckhx"
      }
    },
    {
      "cell_type": "code",
      "source": [
        "import socket\n",
        "import time\n",
        "\n",
        "def sender():\n",
        "    sender_socket = socket.socket(socket.AF_INET, socket.SOCK_DGRAM)\n",
        "    receiver_address = ('127.0.0.1', 12345)\n",
        "\n",
        "    num_frames = int(input(\"Enter the number of frames: \"))\n",
        "    window_size = int(input(\"Enter the window size: \"))\n",
        "\n",
        "    frames = [f\"Frame {i}\" for i in range(num_frames)]\n",
        "    send_base = 0\n",
        "    next_seq_num = 0\n",
        "    ack_received = [False] * num_frames\n",
        "    frame_sent_time = {}  # Dictionary to store sent timestamps\n",
        "    timeout_interval = 0.5  # Timeout interval in seconds\n",
        "\n",
        "    while send_base < num_frames:\n",
        "        # Send frames within the window\n",
        "        while next_seq_num < min(send_base + window_size, num_frames):\n",
        "            if not ack_received[next_seq_num]:\n",
        "                print(f\"Sending {frames[next_seq_num]} (Seq: {next_seq_num})\")\n",
        "                sender_socket.sendto(frames[next_seq_num].encode(), receiver_address)\n",
        "                frame_sent_time[next_seq_num] = time.time()  # Store sent time\n",
        "            next_seq_num += 1\n",
        "\n",
        "        # Check for acknowledgments and retransmission\n",
        "        try:\n",
        "            sender_socket.settimeout(0.1)  # Short timeout to check for ACKs\n",
        "            ack_message, _ = sender_socket.recvfrom(1024)\n",
        "            ack_seq = int(ack_message.decode())\n",
        "            print(f\"Received ACK for Seq: {ack_seq}\")\n",
        "            ack_received[ack_seq] = True\n",
        "\n",
        "            # Slide the window\n",
        "            while send_base < num_frames and ack_received[send_base]:\n",
        "                send_base += 1\n",
        "\n",
        "        except socket.timeout:\n",
        "            # Check for timeouts for individual frames\n",
        "            current_time = time.time()\n",
        "            for i in range(send_base, min(send_base + window_size, num_frames)):\n",
        "                if not ack_received[i] and (current_time - frame_sent_time.get(i, 0)) > timeout_interval:\n",
        "                    print(f\"Timeout: Resending {frames[i]} (Seq: {i})\")\n",
        "                    sender_socket.sendto(frames[i].encode(), receiver_address)\n",
        "                    frame_sent_time[i] = current_time  # Update sent time\n",
        "\n",
        "    print(\"All frames sent and acknowledged.\")\n",
        "    sender_socket.close()\n",
        "\n",
        "if __name__ == \"__main__\":\n",
        "    sender()\n"
      ],
      "metadata": {
        "id": "SPQrNt6Fcoh8"
      },
      "execution_count": null,
      "outputs": []
    },
    {
      "cell_type": "code",
      "source": [
        "import socket\n",
        "import random\n",
        "\n",
        "def receiver():\n",
        "    receiver_socket = socket.socket(socket.AF_INET, socket.SOCK_DGRAM)\n",
        "    receiver_address = ('127.0.0.1', 12345)\n",
        "    receiver_socket.bind(receiver_address)\n",
        "\n",
        "    expected_seq_num = 0\n",
        "    received_frames = {}  # Buffer for out-of-order frames\n",
        "\n",
        "    while True:\n",
        "        try:\n",
        "            receiver_socket.settimeout(5)  # Timeout for waiting frames\n",
        "            frame, sender_address = receiver_socket.recvfrom(1024)\n",
        "            frame_data = frame.decode()\n",
        "            frame_seq = int(frame_data.split(\" \")[1])\n",
        "\n",
        "            if random.random() < 0.2:  # Simulate packet loss\n",
        "                print(f\"Packet loss: {frame_data}\")\n",
        "                continue\n",
        "\n",
        "            if frame_seq == expected_seq_num:\n",
        "                print(f\"Received {frame_data}\")\n",
        "                received_frames[frame_seq] = frame_data  # Store the frame\n",
        "                receiver_socket.sendto(str(frame_seq).encode(), sender_address)\n",
        "                print(f\"Sending ACK {frame_seq}\")\n",
        "                expected_seq_num += 1\n",
        "\n",
        "                # Deliver buffered frames in order\n",
        "                while expected_seq_num in received_frames:\n",
        "                    print(f\"Delivered {received_frames[expected_seq_num]}\")\n",
        "                    receiver_socket.sendto(str(expected_seq_num).encode(), sender_address)\n",
        "                    print(f\"Sending ACK {expected_seq_num}\")\n",
        "                    expected_seq_num += 1\n",
        "\n",
        "            elif frame_seq > expected_seq_num:  # Out-of-order frame\n",
        "                received_frames[frame_seq] = frame_data\n",
        "                receiver_socket.sendto(str(frame_seq).encode(), sender_address)\n",
        "                print(f\"Received out-of-order {frame_data}, buffering. Sending ACK {frame_seq}\")\n",
        "\n",
        "            elif frame_seq < expected_seq_num:  # Duplicate frame\n",
        "                receiver_socket.sendto(str(frame_seq).encode(), sender_address)\n",
        "                print(f\"Duplicate frame {frame_data}, Sending duplicate ACK {frame_seq}\")\n",
        "\n",
        "        except socket.timeout:\n",
        "            print(\"Receiver timeout. Exiting.\")\n",
        "            break\n",
        "\n",
        "    receiver_socket.close()\n",
        "\n",
        "if __name__ == \"__main__\":\n",
        "    receiver()"
      ],
      "metadata": {
        "id": "hTzB2xlzcolY"
      },
      "execution_count": null,
      "outputs": []
    },
    {
      "cell_type": "markdown",
      "source": [
        "#DJAKSTRAS ALGORITHM\n"
      ],
      "metadata": {
        "id": "afr7DrFwco9S"
      }
    },
    {
      "cell_type": "code",
      "source": [],
      "metadata": {
        "id": "TB3_vfOIcsua"
      },
      "execution_count": null,
      "outputs": []
    }
  ]
}